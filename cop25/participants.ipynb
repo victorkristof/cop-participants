{
 "cells": [
  {
   "cell_type": "markdown",
   "metadata": {},
   "source": [
    "# Extract participants at COP25\n",
    "\n",
    "This notebook parses an HTML file generated from the [provisional list of participants](https://unfccc.int/sites/default/files/resource/COP%2025_Provisional%20List%20of%20Participants.pdf) published by the UNFCCC Secretariat for COP25.\n",
    "\n",
    "Some statistics and plots are displayed at the end of the notebook."
   ]
  },
  {
   "cell_type": "code",
   "execution_count": 1,
   "metadata": {},
   "outputs": [],
   "source": [
    "from lxml import html\n",
    "import matplotlib.pyplot as plt\n",
    "\n",
    "%matplotlib inline"
   ]
  },
  {
   "cell_type": "markdown",
   "metadata": {},
   "source": [
    "## Load and parse HTML"
   ]
  },
  {
   "cell_type": "code",
   "execution_count": 2,
   "metadata": {},
   "outputs": [],
   "source": [
    "with open('participants.html') as f:\n",
    "    text = ' '.join(f.readlines()).replace('\\n', '')\n",
    "\n",
    "tree = html.fromstring(text)"
   ]
  },
  {
   "cell_type": "markdown",
   "metadata": {},
   "source": [
    "## Define identifiers for elements"
   ]
  },
  {
   "cell_type": "code",
   "execution_count": 3,
   "metadata": {},
   "outputs": [],
   "source": [
    "elem2style = {\n",
    "    'section': \"font-family: BCDEEE+Cambria-Bold; font-size:12px\",\n",
    "    'party': \"font-family: BCDFEE+Cambria-BoldItalic; font-size:9px\",\n",
    "    'participant1': \"font-family: BCDFEE+Cambria; font-size:9px\",\n",
    "    'participant2': \"font-family: BCDGEE+Cambria; font-size:9px\",\n",
    "    'participant3': \"font-family: BCDHEE+Cambria; font-size:9px\",\n",
    "    'header': \"font-family: TimesNewRomanPS-BoldMT; font-size:8px\",\n",
    "    'line': \"position:absolute; border: black 1px solid; left:55px; top:986px; width:484px; height:0px;\"\n",
    "}\n",
    "\n",
    "style2elem = {v: k for k, v in elem2style.items()}\n",
    "\n",
    "def get_elem(span):\n",
    "    return style2elem.get(span.attrib['style'])"
   ]
  },
  {
   "cell_type": "markdown",
   "metadata": {},
   "source": [
    "## Assign level to each element\n",
    "\n",
    "I use the following hierarchy:\n",
    "\n",
    "- **Level 0:** Sections (Parties, NGOs, ...)\n",
    "- **Level 1:** Parties (Switzerland, WWF, ...)\n",
    "- **Level 2:** Participants (name and affiliation, when available)"
   ]
  },
  {
   "cell_type": "code",
   "execution_count": 4,
   "metadata": {},
   "outputs": [],
   "source": [
    "spans = tree.xpath('''/html/body/div/span''')\n",
    "\n",
    "tuples = list()\n",
    "for span in spans:\n",
    "    elem = get_elem(span)\n",
    "    text = span.text_content()\n",
    "    if elem == 'section':\n",
    "        tuples.append((text, 0))\n",
    "    elif elem == 'party':\n",
    "        tuples.append((text, 1))\n",
    "    elif elem == 'participant1':\n",
    "        tuples.append((text, 2))\n",
    "    elif elem == 'participant2':\n",
    "        tuples.append((text, 2))\n",
    "    elif elem == 'participant3':\n",
    "        tuples.append((text, 2))"
   ]
  },
  {
   "cell_type": "markdown",
   "metadata": {},
   "source": [
    "## Generate data\n",
    "\n",
    "Construct a dictionary from the levels defined above."
   ]
  },
  {
   "cell_type": "code",
   "execution_count": 5,
   "metadata": {},
   "outputs": [],
   "source": [
    "data = dict()\n",
    "\n",
    "for entity, level in tuples:\n",
    "    entity = entity.strip()\n",
    "    entity = entity.replace('   ', '\\n')\n",
    "    if entity == '':\n",
    "        continue\n",
    "    if level == 0:\n",
    "        data[entity] = dict()\n",
    "        section = entity\n",
    "    elif level == 1:\n",
    "        data[section][entity] = list()\n",
    "        party = entity\n",
    "    else:\n",
    "        data[section][party].append(entity)"
   ]
  },
  {
   "cell_type": "markdown",
   "metadata": {},
   "source": [
    "## Statistics\n",
    "\n",
    "\n",
    "### Participation\n",
    "\n",
    "From the original PDF:\n",
    "\n",
    "```\n",
    "13635: Parties\n",
    " 8499: Non-governmental organizations\n",
    "  790: Intergovernmental organizations\n",
    "  381: Specialized agencies and related organizations\n",
    "  317: United Nations Secretariat units and bodies\n",
    "    8: Observer States\n",
    "```\n",
    "\n",
    "Not explicit in the official document, but mentioned in their summary:\n",
    "```\n",
    "3076: Media\n",
    "```\n",
    "\n",
    "**Note:** There is a discrepancy of about 4000 participants between my script and the official document, but I cannot find where it comes from... Especially since I'm overcounting some participants due to noise in raw data. \n"
   ]
  },
  {
   "cell_type": "code",
   "execution_count": 6,
   "metadata": {},
   "outputs": [
    {
     "name": "stdout",
     "output_type": "stream",
     "text": [
      "9278: Parties\n",
      "8401: Non-governmental organizations\n",
      " 856: Intergovernmental organizations\n",
      " 416: Specialized agencies and related organizations\n",
      " 345: United Nations Secretariat units and bodies\n",
      "   7: Observer States\n"
     ]
    }
   ],
   "source": [
    "stats = dict()\n",
    "for section, parties in data.items():\n",
    "    c = 0\n",
    "    for party, participants in parties.items():\n",
    "        c += len(participants)\n",
    "    stats[section] = c\n",
    "for section, c in sorted(stats.items(), key=lambda k: k[1], reverse=True):\n",
    "    print('{:>4}: {}'.format(c, section))"
   ]
  },
  {
   "cell_type": "markdown",
   "metadata": {},
   "source": [
    "### Number of participants per party"
   ]
  },
  {
   "cell_type": "code",
   "execution_count": 7,
   "metadata": {},
   "outputs": [
    {
     "name": "stdout",
     "output_type": "stream",
     "text": [
      "385: Côte d'Ivoire\n",
      "321: Democratic Republic of the Congo\n",
      "206: Benin\n",
      "201: Canada\n",
      "187: Spain\n",
      "186: Brazil\n",
      "186: Indonesia\n",
      "182: Guinea\n",
      "176: Congo\n",
      "173: Morocco\n",
      "171: Bangladesh\n",
      "165: Japan\n",
      "140: European Union\n",
      "137: Burkina Faso\n",
      "137: Chile\n",
      "131: France\n",
      "131: Sudan\n",
      "126: Uganda\n",
      "124: Senegal\n",
      "115: Germany\n"
     ]
    },
    {
     "data": {
      "image/png": "[encoded data removed]",
      "text/plain": [
       "<Figure size 432x288 with 1 Axes>"
      ]
     },
     "metadata": {
      "needs_background": "light"
     },
     "output_type": "display_data"
    }
   ],
   "source": [
    "parties_count = {party: len(participants) for party, participants in data['Parties'].items()}\n",
    "for party, count in sorted(parties_count.items(), key=lambda k: k[1], reverse=True)[:20]:\n",
    "    print('{:>3}: {}'.format(count, party))\n",
    "    \n",
    "plt.hist(parties_count.values(), bins=30)\n",
    "plt.title('Distribution of participant per party')\n",
    "plt.xlabel('Nbr. participants')\n",
    "plt.ylabel('Nbr. parties')\n",
    "plt.show()"
   ]
  },
  {
   "cell_type": "markdown",
   "metadata": {},
   "source": [
    "### Number of participants per NGO"
   ]
  },
  {
   "cell_type": "code",
   "execution_count": 8,
   "metadata": {},
   "outputs": [
    {
     "name": "stdout",
     "output_type": "stream",
     "text": [
      "194: International Chamber of Commerce\n",
      "166: Climate Action Network International\n",
      "158: International Trade Union Confederation\n",
      "148: International Emissions Trading Association\n",
      " 95: Greenpeace International\n",
      " 95: ICLEI-Local Governments for Sustainability\n",
      " 88: WWF\n",
      " 79: World Farmers' Organisation\n",
      " 73: Climate Action Network - Latin America\n",
      " 72: Climate Action Network - Europe\n",
      " 56: Friends of the Earth International\n",
      " 56: Women's Environment and Development Organization\n",
      " 51: Association Actions Vitales Pour Le Développement Durable\n",
      " 50: World Business Council for Sustainable Development\n",
      " 45: University of California\n",
      " 44: GenderCC - Women for Climate Justice e.V.\n",
      " 44: Sustainable Markets Foundation - 350.org\n",
      " 40: Réseau Action Climat - France\n",
      " 38: Deutsche Gesellschaft für Internationale Zusammenarbeit\n",
      " 35: China New Energy Chamber of Commerce\n"
     ]
    },
    {
     "data": {
      "image/png": "[encoded data removed]",
      "text/plain": [
       "<Figure size 432x288 with 1 Axes>"
      ]
     },
     "metadata": {
      "needs_background": "light"
     },
     "output_type": "display_data"
    }
   ],
   "source": [
    "ngos_count = {ngo: len(participants) for ngo, participants in data['Non-governmental organizations'].items()}\n",
    "for ngo, count in sorted(ngos_count.items(), key=lambda k: k[1], reverse=True)[:20]:\n",
    "    print('{:>3}: {}'.format(count, ngo))\n",
    "    \n",
    "plt.hist(ngos_count.values(), bins=30)\n",
    "plt.title('Distribution of participant per NGO')\n",
    "plt.xlabel('Nbr. participants')\n",
    "plt.ylabel('Nbr. NGOs')\n",
    "plt.show()"
   ]
  },
  {
   "cell_type": "markdown",
   "metadata": {},
   "source": [
    "### Partipants linked to the fossil-fuel industry"
   ]
  },
  {
   "cell_type": "code",
   "execution_count": 9,
   "metadata": {},
   "outputs": [],
   "source": [
    "keywords = [\n",
    "    'petroleum',\n",
    "    'oil',\n",
    "    'gas',\n",
    "    'shell',\n",
    "    'coal',\n",
    "    'bp',\n",
    "    'gazprom',\n",
    "    'total',\n",
    "    'aramco',\n",
    "    'petrochemical',\n",
    "    'ipieca',\n",
    "    'eni',\n",
    "    'lafargeholcim',\n",
    "    'suncor'\n",
    "]\n",
    "\n",
    "ngos = [\n",
    "    'european union of the natural gas industry',\n",
    "    'international association of oil and gas producers*',\n",
    "    'chamber of commerce of the united states of america',\n",
    "    'competitive enterprise institute',\n",
    "    'committee for a constructive tomorrow',\n",
    "    'international council of chemical associations',\n",
    "    \n",
    "]\n",
    "\n",
    "def compare_keywords(name):\n",
    "    name = name.replace('\\n',' ').lower()\n",
    "    for ngo in ngos:\n",
    "        if name == ngo:\n",
    "            return True\n",
    "    name = name.lower().split()\n",
    "    for kw in keywords:\n",
    "        if kw in name:\n",
    "            return True\n",
    "    return False"
   ]
  },
  {
   "cell_type": "code",
   "execution_count": 10,
   "metadata": {},
   "outputs": [
    {
     "name": "stdout",
     "output_type": "stream",
     "text": [
      "Identified 186 participants linked to the fossil-fuel industry.\n"
     ]
    }
   ],
   "source": [
    "badguys = set()\n",
    "\n",
    "for section, parties in data.items():\n",
    "    for party, participants in parties.items():\n",
    "        if compare_keywords(party):\n",
    "            badguys.update(participants)\n",
    "        for participant in participants:\n",
    "            if compare_keywords(participant):\n",
    "                badguys.add(participant)\n",
    "\n",
    "print('Identified {} participants linked to the fossil-fuel industry.'.format(len(badguys)))"
   ]
  }
 ],
 "metadata": {
  "kernelspec": {
   "display_name": "Python 3",
   "language": "python",
   "name": "python3"
  },
  "language_info": {
   "codemirror_mode": {
    "name": "ipython",
    "version": 3
   },
   "file_extension": ".py",
   "mimetype": "text/x-python",
   "name": "python",
   "nbconvert_exporter": "python",
   "pygments_lexer": "ipython3",
   "version": "3.7.3"
  }
 },
 "nbformat": 4,
 "nbformat_minor": 1
}
